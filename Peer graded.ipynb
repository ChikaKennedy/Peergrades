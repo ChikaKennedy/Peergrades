{
 "cells": [
  {
   "cell_type": "markdown",
   "id": "04463f27-512f-45a0-8b32-9825482147a2",
   "metadata": {},
   "source": [
    "# My Jupyter Notebook on IBM Watson Studio"
   ]
  },
  {
   "cell_type": "markdown",
   "id": "cd0b3928-9c2f-44d2-9012-f79301e3928d",
   "metadata": {},
   "source": [
    "**Chika Kennedy**\n"
   ]
  },
  {
   "cell_type": "markdown",
   "id": "c475e48e-18e9-4ff7-a5ec-aa6d96d73030",
   "metadata": {},
   "source": [
    "Student"
   ]
  },
  {
   "cell_type": "markdown",
   "id": "06e9a705-f295-4513-b7d8-26a0905f3fa1",
   "metadata": {},
   "source": [
    "*I am interested in Data Science because I like research*\n"
   ]
  },
  {
   "cell_type": "markdown",
   "id": "7cdda656-37da-4050-8ec1-39a10e2c9803",
   "metadata": {},
   "source": [
    "### My code is meant to add two numbers together"
   ]
  },
  {
   "cell_type": "code",
   "execution_count": 5,
   "id": "bfd5db48-7efc-4554-a5a4-925cdb1a2061",
   "metadata": {},
   "outputs": [
    {
     "data": {
      "text/plain": [
       "10"
      ]
     },
     "execution_count": 5,
     "metadata": {},
     "output_type": "execute_result"
    }
   ],
   "source": [
    "5 + 5"
   ]
  },
  {
   "cell_type": "markdown",
   "id": "7588e1a3-91da-4303-b913-3ceabb746b6e",
   "metadata": {},
   "source": [
    "* This is a bullet list\n",
    "* This is a bullet list\n",
    "* This is a bullet list"
   ]
  },
  {
   "cell_type": "markdown",
   "id": "93514aaa-3ad1-4d9f-895b-6e777d153100",
   "metadata": {},
   "source": [
    "***\n",
    "\n",
    "This is a horizontal rule!\n",
    "\n",
    "***"
   ]
  },
  {
   "cell_type": "markdown",
   "id": "6465e669-4120-405f-852f-3c88b3d78d9c",
   "metadata": {},
   "source": [
    "~~This is a strike through~~"
   ]
  },
  {
   "cell_type": "code",
   "execution_count": null,
   "id": "6d402f74-a3c1-436e-95cf-d41cff8b96e5",
   "metadata": {},
   "outputs": [],
   "source": []
  }
 ],
 "metadata": {
  "kernelspec": {
   "display_name": "Python",
   "language": "python",
   "name": "conda-env-python-py"
  },
  "language_info": {
   "codemirror_mode": {
    "name": "ipython",
    "version": 3
   },
   "file_extension": ".py",
   "mimetype": "text/x-python",
   "name": "python",
   "nbconvert_exporter": "python",
   "pygments_lexer": "ipython3",
   "version": "3.7.12"
  }
 },
 "nbformat": 4,
 "nbformat_minor": 5
}
